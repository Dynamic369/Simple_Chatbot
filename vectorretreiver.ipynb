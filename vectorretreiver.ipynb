{
 "cells": [
  {
   "cell_type": "code",
   "execution_count": null,
   "id": "50d67133",
   "metadata": {},
   "outputs": [],
   "source": [
    "from langchain_core.documents import Document\n",
    "\n",
    "documents = [\n",
    "    Document(\n",
    "        page_content=\"Dogs are great companions, known for their loyalty and friendliness.\",\n",
    "        metadata={\"source\": \"mammal-pets-doc\"},\n",
    "    ),\n",
    "    Document(\n",
    "        page_content=\"Cats are independent pets that often enjoy their own space.\",\n",
    "        metadata={\"source\": \"mammal-pets-doc\"},\n",
    "    ),\n",
    "    Document(\n",
    "        page_content=\"Goldfish are popular pets for beginners, requiring relatively simple care.\",\n",
    "        metadata={\"source\": \"fish-pets-doc\"},\n",
    "    ),\n",
    "    Document(\n",
    "        page_content=\"Parrots are intelligent birds capable of mimicking human speech.\",\n",
    "        metadata={\"source\": \"bird-pets-doc\"},\n",
    "    ),\n",
    "    Document(\n",
    "        page_content=\"Rabbits are social animals that need plenty of space to hop around.\",\n",
    "        metadata={\"source\": \"mammal-pets-doc\"},\n",
    "    ),\n",
    "]"
   ]
  },
  {
   "cell_type": "code",
   "execution_count": null,
   "id": "78ec8aec",
   "metadata": {},
   "outputs": [],
   "source": [
    "documents"
   ]
  },
  {
   "cell_type": "code",
   "execution_count": null,
   "id": "e4e0c6e0",
   "metadata": {},
   "outputs": [],
   "source": [
    "import os\n",
    "from dotenv import load_dotenv\n",
    "load_dotenv()\n",
    "from langchain_groq import ChatGroq\n",
    "groq_api_key = os.getenv('GROQ_API_KEY')\n",
    "\n",
    "os.environ['HF_TOKEN'] = os.getenv('HF_TOKEN')\n",
    "\n",
    "llm = ChatGroq(api_key=groq_api_key,model='Llama3-8b-8192')\n",
    "llm"
   ]
  },
  {
   "cell_type": "code",
   "execution_count": null,
   "id": "04dce658",
   "metadata": {},
   "outputs": [],
   "source": [
    "from langchain_huggingface import HuggingFaceEmbeddings\n",
    "embeddings = HuggingFaceEmbeddings(model_name='all-MiniLM-L6-v2')"
   ]
  },
  {
   "cell_type": "code",
   "execution_count": null,
   "id": "eaa90ad1",
   "metadata": {},
   "outputs": [],
   "source": [
    "# vector store\n",
    "from langchain_chroma import Chroma\n",
    "vectorstore = Chroma.from_documents(embedding=embeddings,documents=documents)\n",
    "vectorstore"
   ]
  },
  {
   "cell_type": "code",
   "execution_count": null,
   "id": "8e03af2e",
   "metadata": {},
   "outputs": [],
   "source": [
    "vectorstore.similarity_search('cat')"
   ]
  },
  {
   "cell_type": "code",
   "execution_count": null,
   "id": "050ddb5e",
   "metadata": {},
   "outputs": [],
   "source": [
    "# Async Query\n",
    "await vectorstore.asimilarity_search('cat')"
   ]
  },
  {
   "cell_type": "code",
   "execution_count": null,
   "id": "96697896",
   "metadata": {},
   "outputs": [],
   "source": [
    "vectorstore.similarity_search_with_score('which bird can mimic the human')"
   ]
  },
  {
   "cell_type": "markdown",
   "id": "3fcaf355",
   "metadata": {},
   "source": [
    "## Retriever"
   ]
  },
  {
   "cell_type": "code",
   "execution_count": null,
   "id": "7837c065",
   "metadata": {},
   "outputs": [],
   "source": [
    "from typing import List\n",
    "\n",
    "from langchain_core.documents import Document\n",
    "from langchain_core.runnables import RunnableLambda\n",
    "\n",
    "retriever = RunnableLambda(vectorstore.similarity_search).bind(k=1)\n",
    "retriever.batch(['cat','dog'])"
   ]
  },
  {
   "cell_type": "code",
   "execution_count": null,
   "id": "98c91997",
   "metadata": {},
   "outputs": [],
   "source": [
    "retriever = vectorstore.as_retriever(\n",
    "    search_type = 'similarity',\n",
    "    search_kwargs={'k':1}\n",
    "\n",
    ")\n",
    "retriever.batch(['cat','dog'])"
   ]
  },
  {
   "cell_type": "code",
   "execution_count": null,
   "id": "a017b544",
   "metadata": {},
   "outputs": [],
   "source": [
    "# RAG = Retrieval argument generation\n",
    "# RAG = Retrieval + Generation → You retrieve information first, then use it to answer a question.\n",
    "\n",
    "from langchain_core.prompts import ChatPromptTemplate\n",
    "from langchain_core.runnables import RunnablePassthrough\n",
    "\n",
    "message = \"\"\"\n",
    "Answer this question using the provided context only.\n",
    "{question}\n",
    "\n",
    "Context:\n",
    "{context}\n",
    "\"\"\"\n",
    "prompt = ChatPromptTemplate.from_messages([('human',message)])\n",
    "\n",
    "rag_chain = {'context':retriever,'question':RunnablePassthrough()}|prompt|llm\n",
    "\n",
    "response = rag_chain.invoke('tell me about dogs')\n",
    "print(response)"
   ]
  },
  {
   "cell_type": "code",
   "execution_count": null,
   "id": "d11dcc68",
   "metadata": {},
   "outputs": [],
   "source": []
  }
 ],
 "metadata": {
  "kernelspec": {
   "display_name": "Python 3",
   "language": "python",
   "name": "python3"
  },
  "language_info": {
   "codemirror_mode": {
    "name": "ipython",
    "version": 3
   },
   "file_extension": ".py",
   "mimetype": "text/x-python",
   "name": "python",
   "nbconvert_exporter": "python",
   "pygments_lexer": "ipython3",
   "version": "3.10.0"
  }
 },
 "nbformat": 4,
 "nbformat_minor": 5
}
